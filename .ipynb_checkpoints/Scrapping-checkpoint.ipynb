{
 "cells": [
  {
   "cell_type": "code",
   "execution_count": 1,
   "metadata": {},
   "outputs": [],
   "source": [
    "# Project Web Scraping\n",
    "# Created Date: Saturday, March 28th 2020, 10:31:00 am\n"
   ]
  },
  {
   "cell_type": "code",
   "execution_count": 2,
   "metadata": {},
   "outputs": [],
   "source": [
    "# reset all variables\n",
    "%reset -f\n"
   ]
  },
  {
   "cell_type": "code",
   "execution_count": 1,
   "metadata": {},
   "outputs": [],
   "source": [
    "# import libraries\n",
    "import requests\n",
    "from bs4 import BeautifulSoup\n",
    "import pandas as pd\n",
    "\n",
    "# Selenium\n",
    "from selenium import webdriver\n",
    "from selenium.webdriver.common.keys import Keys\n",
    "from selenium.webdriver.support.ui import WebDriverWait\n",
    "from selenium.webdriver.support import expected_conditions as EC\n",
    "from selenium.webdriver.common.by import By\n",
    "from selenium.webdriver.chrome.options import Options\n",
    "from selenium.webdriver.common.action_chains import ActionChains\n",
    "from selenium.webdriver.support.ui import Select\n",
    "from selenium.common.exceptions import TimeoutException\n",
    "\n",
    "\n",
    "import time\n",
    "import re\n",
    "import os\n",
    "import sys\n",
    "import json\n",
    "import datetime\n"
   ]
  },
  {
   "cell_type": "code",
   "execution_count": 2,
   "metadata": {},
   "outputs": [
    {
     "name": "stdout",
     "output_type": "stream",
     "text": [
      "['#main', '/journal/jco', 'https://signin.asco.org/oauth2/aus1goap5nQ33vo7A297/v1/authorize/?client_id=0oa1lqh0mhJversiO297&response_type=code&scope=openid profile email&state=%2Floi%2Fjco&redirect_uri=https%3A%2F%2Fascopubs.org%2Faction%2FssoReturn', 'http://www.editorialmanager.com/jco-ascopubs/default.aspx', 'https://apps.asco.org/EmailPreferences/Home/UpdateWithLogin?cat=53', '/action/showCart ', 'https://ascopubs.org/login-via-institution', '#', '/search/advanced', '/toc/jco/0/0', '#', '/toc/jco/current', '/loi/jco', '#', '/jco/special/guidelines', '/jco/special/series', 'http://jcopodcast.jcopodcast.libsynpro.com/', 'http://aoopodcast.ascou.libsynpro.com/', '/jco/meeting', '/topic/ogr', '/topic/utp', '#', '/jco/authors/author-center', '/jco/authors/open-access', '#', '/jco/authors/determine-article-type', '/jco/authors/format-manuscript', '/jco/authors/submit-manuscript', '/jco/authors/contact-editorial', '#', '/jco/authors/peer-review-process', '/jco/authors/article-accepted', '#', '/jco/authors/journal-policies', '/jco/authors/embargo-policy', '/jco/authors/promotion-toolkit', '#', '/jco/authors/from-editors', '/jco/authors/faq', '/jco/authors/editing-support', 'http://www.editorialmanager.com/jco-ascopubs/default.aspx', '#', '/jco/subscribers/subscriber-center', '/jco/subscribers/manage-subscription', 'https://store.asco.org/eCommerce/Billing/ASCOBilling.aspx', '/action/showPreferences', '/about/institutions', '/jco/subscribers/subscribe', 'https://apps.asco.org/EmailPreferences/Home/UpdateWithLogin?cat=53', '/jco/subscribers/faq', '#', '/jco/about', '/jco/about/editorial-roster', '/jco/about/permissions', '/jco/about/reprints', '/jco/about/advertising', '/reviewers', '/jco/about/contact', '#', '/journal/jco', '/journal/op', '/journal/go', '/journal/cci', '/journal/po', '/', 'https://careercenter.asco.org/?jco', '/coronavirus', 'https://twitter.com/JCO_ASCO', 'https://signin.asco.org/oauth2/aus1goap5nQ33vo7A297/v1/authorize/?client_id=0oa1lqh0mhJversiO297&response_type=code&scope=openid profile email&state=%2Floi%2Fjco&redirect_uri=https%3A%2F%2Fascopubs.org%2Faction%2FssoReturn', '/jco/meeting', '/jco/special-series/archive', '/toc/jco/0/0', '#', '#', '#', '/toc/jco/40/27', '/toc/jco/40/26', '/toc/jco/40/25', '/toc/jco/40/24', '/toc/jco/40/23', '/toc/jco/40/22', '/toc/jco/40/21', '/toc/jco/40/20', '/toc/jco/40/19', '/toc/jco/40/18', '/toc/jco/40/17', '/toc/jco/40/16', '/toc/jco/40/15', '/toc/jco/40/14', '/toc/jco/40/13', '/toc/jco/40/12', '/toc/jco/40/11', '/toc/jco/40/10', '/toc/jco/40/9', '/toc/jco/40/8', '/toc/jco/40/7', '/toc/jco/40/6', '/toc/jco/40/5', '/toc/jco/40/4', '/toc/jco/40/3', '/toc/jco/40/2', '/toc/jco/40/1', '#', '#', '/toc/jco/39/36', '/toc/jco/39/35', '/toc/jco/39/34', '/toc/jco/39/33', '/toc/jco/39/32', '/toc/jco/39/31', '/toc/jco/39/30', '/toc/jco/39/29', '/toc/jco/39/28', '/toc/jco/39/27', '/toc/jco/39/26', '/toc/jco/39/25', '/toc/jco/39/24', '/toc/jco/39/23', '/toc/jco/39/22', '/toc/jco/39/21', '/toc/jco/39/20', '/toc/jco/39/19', '/toc/jco/39/18', '/toc/jco/39/17', '/toc/jco/39/16', '/toc/jco/39/15', '/toc/jco/39/14', '/toc/jco/39/13', '/toc/jco/39/12', '/toc/jco/39/11', '/toc/jco/39/10', '/toc/jco/39/9', '/toc/jco/39/8', '/toc/jco/39/7', '/toc/jco/39/6', '/toc/jco/39/5', '/toc/jco/39/4', '/toc/jco/39/3', '/toc/jco/39/2', '/toc/jco/39/1', '#', '#', '/toc/jco/38/36', '/toc/jco/38/35', '/toc/jco/38/34', '/toc/jco/38/33', '/toc/jco/38/32', '/toc/jco/38/31', '/toc/jco/38/30', '/toc/jco/38/29', '/toc/jco/38/28', '/toc/jco/38/27', '/toc/jco/38/26', '/toc/jco/38/25', '/toc/jco/38/24', '/toc/jco/38/23', '/toc/jco/38/22', '/toc/jco/38/21', '/toc/jco/38/20', '/toc/jco/38/19', '/toc/jco/38/18', '/toc/jco/38/17', '/toc/jco/38/16', '/toc/jco/38/15', '/toc/jco/38/14', '/toc/jco/38/13', '/toc/jco/38/12', '/toc/jco/38/11', '/toc/jco/38/10', '/toc/jco/38/9', '/toc/jco/38/8', '/toc/jco/38/7', '/toc/jco/38/6', '/toc/jco/38/5', '/toc/jco/38/4', '/toc/jco/38/3', '/toc/jco/38/2', '/toc/jco/38/1', '#', '#', '#', '/toc/jco/37/36', '/toc/jco/37/35', '/toc/jco/37/34', '/toc/jco/37/33', '/toc/jco/37/32', '/toc/jco/37/31', '/toc/jco/37/30', '/toc/jco/37/29', '/toc/jco/37/28', '/toc/jco/37/27', '/toc/jco/37/26', '/toc/jco/37/25', '/toc/jco/37/24', '/toc/jco/37/23', '/toc/jco/37/22', '/toc/jco/37/21', '/toc/jco/37/20', '/toc/jco/37/19', '/toc/jco/37/18', '/toc/jco/37/17', '/toc/jco/37/16', '/toc/jco/37/15', '/toc/jco/37/14', '/toc/jco/37/13', '/toc/jco/37/12', '/toc/jco/37/11', '/toc/jco/37/10', '/toc/jco/37/9', '/toc/jco/37/8', '/toc/jco/37/7', '/toc/jco/37/6', '/toc/jco/37/5', '/toc/jco/37/4', '/toc/jco/37/3', '/toc/jco/37/2', '/toc/jco/37/1', '#', '#', '/toc/jco/36/36', '/toc/jco/36/35', '/toc/jco/36/34', '/toc/jco/36/33', '/toc/jco/36/32', '/toc/jco/36/31', '/toc/jco/36/30', '/toc/jco/36/29', '/toc/jco/36/28', '/toc/jco/36/27', '/toc/jco/36/26', '/toc/jco/36/25', '/toc/jco/36/24', '/toc/jco/36/23', '/toc/jco/36/22', '/toc/jco/36/21', '/toc/jco/36/20', '/toc/jco/36/19', '/toc/jco/36/18', '/toc/jco/36/17', '/toc/jco/36/16', '/toc/jco/36/15', '/toc/jco/36/14', '/toc/jco/36/13', '/toc/jco/36/12', '/toc/jco/36/11', '/toc/jco/36/10', '/toc/jco/36/9', '/toc/jco/36/8', '/toc/jco/36/7', '/toc/jco/36/6', '/toc/jco/36/5', '/toc/jco/36/4', '/toc/jco/36/3', '/toc/jco/36/2', '/toc/jco/36/1', '#', '#', '/toc/jco/35/36', '/toc/jco/35/35', '/toc/jco/35/34', '/toc/jco/35/33', '/toc/jco/35/32', '/toc/jco/35/31', '/toc/jco/35/30', '/toc/jco/35/29', '/toc/jco/35/28', '/toc/jco/35/27', '/toc/jco/35/26', '/toc/jco/35/25', '/toc/jco/35/24', '/toc/jco/35/23', '/toc/jco/35/22', '/toc/jco/35/21', '/toc/jco/35/20', '/toc/jco/35/19', '/toc/jco/35/18', '/toc/jco/35/17', '/toc/jco/35/16', '/toc/jco/35/15', '/toc/jco/35/14', '/toc/jco/35/13', '/toc/jco/35/12', '/toc/jco/35/11', '/toc/jco/35/10', '/toc/jco/35/9', '/toc/jco/35/8', '/toc/jco/35/7', '/toc/jco/35/6', '/toc/jco/35/5', '/toc/jco/35/4', '/toc/jco/35/3', '/toc/jco/35/2', '/toc/jco/35/1', '#', '#', '/toc/jco/34/36', '/toc/jco/34/35', '/toc/jco/34/34', '/toc/jco/34/33', '/toc/jco/34/32', '/toc/jco/34/31', '/toc/jco/34/30', '/toc/jco/34/29', '/toc/jco/34/28', '/toc/jco/34/27', '/toc/jco/34/26', '/toc/jco/34/25', '/toc/jco/34/24', '/toc/jco/34/23', '/toc/jco/34/22', '/toc/jco/34/21', '/toc/jco/34/20', '/toc/jco/34/19', '/toc/jco/34/18', '/toc/jco/34/17', '/toc/jco/34/16', '/toc/jco/34/15', '/toc/jco/34/14', '/toc/jco/34/13', '/toc/jco/34/12', '/toc/jco/34/11', '/toc/jco/34/10', '/toc/jco/34/9', '/toc/jco/34/8', '/toc/jco/34/7', '/toc/jco/34/6', '/toc/jco/34/5', '/toc/jco/34/4', '/toc/jco/34/3', '/toc/jco/34/2', '/toc/jco/34/1', '#', '#', '/toc/jco/33/36', '/toc/jco/33/35', '/toc/jco/33/34', '/toc/jco/33/33', '/toc/jco/33/32', '/toc/jco/33/31', '/toc/jco/33/30', '/toc/jco/33/29', '/toc/jco/33/28', '/toc/jco/33/27', '/toc/jco/33/26', '/toc/jco/33/25', '/toc/jco/33/24', '/toc/jco/33/23', '/toc/jco/33/22', '/toc/jco/33/21', '/toc/jco/33/20', '/toc/jco/33/19', '/toc/jco/33/18', '/toc/jco/33/17', '/toc/jco/33/16', '/toc/jco/33/15', '/toc/jco/33/14', '/toc/jco/33/13', '/toc/jco/33/12', '/toc/jco/33/11', '/toc/jco/33/10', '/toc/jco/33/9', '/toc/jco/33/8', '/toc/jco/33/7', '/toc/jco/33/6', '/toc/jco/33/5', '/toc/jco/33/4', '/toc/jco/33/3', '/toc/jco/33/2', '/toc/jco/33/1', '#', '#', '/toc/jco/32/36', '/toc/jco/32/35', '/toc/jco/32/34', '/toc/jco/32/33', '/toc/jco/32/32', '/toc/jco/32/31', '/toc/jco/32/30', '/toc/jco/32/29', '/toc/jco/32/28', '/toc/jco/32/27', '/toc/jco/32/26', '/toc/jco/32/25', '/toc/jco/32/24', '/toc/jco/32/23', '/toc/jco/32/22', '/toc/jco/32/21', '/toc/jco/32/20', '/toc/jco/32/19', '/toc/jco/32/18', '/toc/jco/32/17', '/toc/jco/32/16', '/toc/jco/32/15', '/toc/jco/32/14', '/toc/jco/32/13', '/toc/jco/32/12', '/toc/jco/32/11', '/toc/jco/32/10', '/toc/jco/32/9', '/toc/jco/32/8', '/toc/jco/32/7', '/toc/jco/32/6', '/toc/jco/32/5', '/toc/jco/32/4', '/toc/jco/32/3', '/toc/jco/32/2', '/toc/jco/32/1', '#', '#', '/toc/jco/31/36', '/toc/jco/31/35', '/toc/jco/31/34', '/toc/jco/31/33', '/toc/jco/31/32', '/toc/jco/31/31', '/toc/jco/31/30', '/toc/jco/31/29', '/toc/jco/31/28', '/toc/jco/31/27', '/toc/jco/31/26', '/toc/jco/31/25', '/toc/jco/31/24', '/toc/jco/31/23', '/toc/jco/31/22', '/toc/jco/31/21', '/toc/jco/31/20', '/toc/jco/31/19', '/toc/jco/31/18', '/toc/jco/31/17', '/toc/jco/31/16', '/toc/jco/31/15', '/toc/jco/31/14', '/toc/jco/31/13', '/toc/jco/31/12', '/toc/jco/31/11', '/toc/jco/31/10', '/toc/jco/31/9', '/toc/jco/31/8', '/toc/jco/31/7', '/toc/jco/31/6', '/toc/jco/31/5', '/toc/jco/31/4', '/toc/jco/31/3', '/toc/jco/31/2', '/toc/jco/31/1', '#', '#', '/toc/jco/30/36', '/toc/jco/30/35', '/toc/jco/30/34', '/toc/jco/30/33', '/toc/jco/30/32', '/toc/jco/30/31', '/toc/jco/30/30', '/toc/jco/30/29', '/toc/jco/30/28', '/toc/jco/30/27', '/toc/jco/30/26', '/toc/jco/30/25', '/toc/jco/30/24', '/toc/jco/30/23', '/toc/jco/30/22', '/toc/jco/30/21', '/toc/jco/30/20', '/toc/jco/30/19', '/toc/jco/30/18', '/toc/jco/30/17', '/toc/jco/30/16', '/toc/jco/30/15', '/toc/jco/30/14', '/toc/jco/30/13', '/toc/jco/30/12', '/toc/jco/30/11', '/toc/jco/30/10', '/toc/jco/30/9', '/toc/jco/30/8', '/toc/jco/30/7', '/toc/jco/30/6', '/toc/jco/30/5', '/toc/jco/30/4', '/toc/jco/30/3', '/toc/jco/30/2', '/toc/jco/30/1', '#', '#', '/toc/jco/29/36', '/toc/jco/29/35', '/toc/jco/29/34', '/toc/jco/29/33', '/toc/jco/29/32', '/toc/jco/29/31', '/toc/jco/29/30', '/toc/jco/29/29', '/toc/jco/29/28', '/toc/jco/29/27', '/toc/jco/29/26', '/toc/jco/29/25', '/toc/jco/29/24', '/toc/jco/29/23', '/toc/jco/29/22', '/toc/jco/29/21', '/toc/jco/29/20', '/toc/jco/29/19', '/toc/jco/29/18', '/toc/jco/29/17', '/toc/jco/29/16', '/toc/jco/29/15', '/toc/jco/29/14', '/toc/jco/29/13', '/toc/jco/29/12', '/toc/jco/29/11', '/toc/jco/29/10', '/toc/jco/29/9', '/toc/jco/29/8', '/toc/jco/29/7', '/toc/jco/29/6', '/toc/jco/29/5', '/toc/jco/29/4', '/toc/jco/29/3', '/toc/jco/29/2', '/toc/jco/29/1', '#', '#', '/toc/jco/28/36', '/toc/jco/28/35', '/toc/jco/28/34', '/toc/jco/28/33', '/toc/jco/28/32', '/toc/jco/28/31', '/toc/jco/28/30', '/toc/jco/28/29', '/toc/jco/28/28', '/toc/jco/28/27', '/toc/jco/28/26', '/toc/jco/28/25', '/toc/jco/28/24', '/toc/jco/28/23', '/toc/jco/28/22', '/toc/jco/28/21', '/toc/jco/28/20', '/toc/jco/28/19', '/toc/jco/28/18', '/toc/jco/28/17', '/toc/jco/28/16', '/toc/jco/28/15', '/toc/jco/28/14', '/toc/jco/28/13', '/toc/jco/28/12', '/toc/jco/28/11', '/toc/jco/28/10', '/toc/jco/28/9', '/toc/jco/28/8', '/toc/jco/28/7', '/toc/jco/28/6', '/toc/jco/28/5', '/toc/jco/28/4', '/toc/jco/28/3', '/toc/jco/28/2', '/toc/jco/28/1', '#', '#', '#', '/toc/jco/27/36', '/toc/jco/27/35', '/toc/jco/27/34', '/toc/jco/27/33', '/toc/jco/27/32', '/toc/jco/27/31', '/toc/jco/27/30', '/toc/jco/27/29', '/toc/jco/27/28', '/toc/jco/27/27', '/toc/jco/27/26', '/toc/jco/27/25', '/toc/jco/27/24', '/toc/jco/27/23', '/toc/jco/27/22', '/toc/jco/27/21', '/toc/jco/27/20', '/toc/jco/27/19', '/toc/jco/27/18', '/toc/jco/27/17', '/toc/jco/27/16', '/toc/jco/27/15', '/toc/jco/27/14', '/toc/jco/27/13', '/toc/jco/27/12', '/toc/jco/27/11', '/toc/jco/27/10', '/toc/jco/27/9', '/toc/jco/27/8', '/toc/jco/27/7', '/toc/jco/27/6', '/toc/jco/27/5', '/toc/jco/27/4', '/toc/jco/27/3', '/toc/jco/27/2', '/toc/jco/27/1', '#', '#', '/toc/jco/26/36', '/toc/jco/26/35', '/toc/jco/26/34', '/toc/jco/26/33', '/toc/jco/26/32', '/toc/jco/26/31', '/toc/jco/26/30', '/toc/jco/26/29', '/toc/jco/26/28', '/toc/jco/26/27', '/toc/jco/26/26', '/toc/jco/26/25', '/toc/jco/26/24', '/toc/jco/26/23', '/toc/jco/26/22', '/toc/jco/26/21', '/toc/jco/26/20', '/toc/jco/26/19', '/toc/jco/26/18', '/toc/jco/26/17', '/toc/jco/26/16', '/toc/jco/26/15', '/toc/jco/26/14', '/toc/jco/26/13', '/toc/jco/26/12', '/toc/jco/26/11', '/toc/jco/26/10', '/toc/jco/26/9', '/toc/jco/26/8', '/toc/jco/26/7', '/toc/jco/26/6', '/toc/jco/26/5', '/toc/jco/26/4', '/toc/jco/26/3', '/toc/jco/26/2', '/toc/jco/26/1', '#', '#', '/toc/jco/25/36', '/toc/jco/25/35', '/toc/jco/25/34', '/toc/jco/25/33', '/toc/jco/25/32', '/toc/jco/25/31', '/toc/jco/25/30', '/toc/jco/25/29', '/toc/jco/25/28', '/toc/jco/25/27', '/toc/jco/25/26', '/toc/jco/25/25', '/toc/jco/25/24', '/toc/jco/25/23', '/toc/jco/25/22', '/toc/jco/25/21', '/toc/jco/25/20', '/toc/jco/25/19', '/toc/jco/25/18', '/toc/jco/25/17', '/toc/jco/25/16', '/toc/jco/25/15', '/toc/jco/25/14', '/toc/jco/25/13', '/toc/jco/25/12', '/toc/jco/25/11', '/toc/jco/25/10', '/toc/jco/25/9', '/toc/jco/25/8', '/toc/jco/25/7', '/toc/jco/25/5', '/toc/jco/25/6', '/toc/jco/25/4', '/toc/jco/25/3', '/toc/jco/25/2', '/toc/jco/25/1', '#', '#', '/toc/jco/24/36', '/toc/jco/24/35', '/toc/jco/24/34', '/toc/jco/24/33', '/toc/jco/24/32', '/toc/jco/24/31', '/toc/jco/24/30', '/toc/jco/24/29', '/toc/jco/24/28', '/toc/jco/24/27', '/toc/jco/24/26', '/toc/jco/24/25', '/toc/jco/24/24', '/toc/jco/24/23', '/toc/jco/24/22', '/toc/jco/24/21', '/toc/jco/24/20', '/toc/jco/24/19', '/toc/jco/24/18', '/toc/jco/24/17', '/toc/jco/24/16', '/toc/jco/24/15', '/toc/jco/24/14', '/toc/jco/24/13', '/toc/jco/24/12', '/toc/jco/24/11', '/toc/jco/24/10', '/toc/jco/24/9', '/toc/jco/24/8', '/toc/jco/24/7', '/toc/jco/24/6', '/toc/jco/24/5', '/toc/jco/24/4', '/toc/jco/24/3', '/toc/jco/24/2', '/toc/jco/24/1', '#', '#', '/toc/jco/23/36', '/toc/jco/23/35', '/toc/jco/23/34', '/toc/jco/23/33', '/toc/jco/23/32', '/toc/jco/23/31', '/toc/jco/23/30', '/toc/jco/23/29', '/toc/jco/23/28', '/toc/jco/23/27', '/toc/jco/23/26', '/toc/jco/23/25', '/toc/jco/23/24', '/toc/jco/23/23', '/toc/jco/23/22', '/toc/jco/23/21', '/toc/jco/23/20', '/toc/jco/23/19', '/toc/jco/23/18', '/toc/jco/23/17', '/toc/jco/23/16', '/toc/jco/23/15', '/toc/jco/23/14', '/toc/jco/23/13', '/toc/jco/23/12', '/toc/jco/23/11', '/toc/jco/23/10', '/toc/jco/23/9', '/toc/jco/23/8', '/toc/jco/23/7', '/toc/jco/23/6', '/toc/jco/23/5', '/toc/jco/23/4', '/toc/jco/23/3', '/toc/jco/23/2', '/toc/jco/23/1', '#', '#', '/toc/jco/22/24', '/toc/jco/22/23', '/toc/jco/22/22', '/toc/jco/22/21', '/toc/jco/22/20', '/toc/jco/22/19', '/toc/jco/22/18', '/toc/jco/22/17', '/toc/jco/22/16', '/toc/jco/22/15', '/toc/jco/22/14', '/toc/jco/22/13', '/toc/jco/22/12', '/toc/jco/22/11', '/toc/jco/22/10', '/toc/jco/22/9', '/toc/jco/22/8', '/toc/jco/22/7', '/toc/jco/22/6', '/toc/jco/22/5', '/toc/jco/22/4', '/toc/jco/22/3', '/toc/jco/22/2', '/toc/jco/22/1', '#', '#', '/toc/jco/21/24', '/toc/jco/21/23', '/toc/jco/21/22', '/toc/jco/21/21', '/toc/jco/21/20', '/toc/jco/21/19', '/toc/jco/21/18', '/toc/jco/21/17', '/toc/jco/21/16', '/toc/jco/21/15', '/toc/jco/21/14', '/toc/jco/21/13', '/toc/jco/21/12', '/toc/jco/21/11', '/toc/jco/21/10', '/toc/jco/21/9', '/toc/jco/21/8', '/toc/jco/21/7', '/toc/jco/21/6', '/toc/jco/21/5', '/toc/jco/21/4', '/toc/jco/21/3', '/toc/jco/21/2', '/toc/jco/21/1', '#', '#', '/toc/jco/20/24', '/toc/jco/20/23', '/toc/jco/20/22', '/toc/jco/20/21', '/toc/jco/20/20', '/toc/jco/20/19', '/toc/jco/20/18', '/toc/jco/20/17', '/toc/jco/20/16', '/toc/jco/20/15', '/toc/jco/20/14', '/toc/jco/20/13', '/toc/jco/20/12', '/toc/jco/20/11', '/toc/jco/20/10', '/toc/jco/20/9', '/toc/jco/20/8', '/toc/jco/20/7', '/toc/jco/20/6', '/toc/jco/20/5', '/toc/jco/20/4', '/toc/jco/20/3', '/toc/jco/20/2', '/toc/jco/20/1', '#', '#', '/toc/jco/19/24', '/toc/jco/19/23', '/toc/jco/19/22', '/toc/jco/19/21', '/toc/jco/19/20', '/toc/jco/19/19', '/toc/jco/19/18', '/toc/jco/19/17', '/toc/jco/19/16', '/toc/jco/19/15', '/toc/jco/19/14', '/toc/jco/19/13', '/toc/jco/19/12', '/toc/jco/19/11', '/toc/jco/19/10', '/toc/jco/19/9', '/toc/jco/19/8', '/toc/jco/19/7', '/toc/jco/19/6', '/toc/jco/19/5', '/toc/jco/19/4', '/toc/jco/19/3', '/toc/jco/19/2', '/toc/jco/19/1', '#', '#', '/toc/jco/18/24', '/toc/jco/18/23', '/toc/jco/18/22', '/toc/jco/18/21', '/toc/jco/18/20', '/toc/jco/18/19', '/toc/jco/18/18', '/toc/jco/18/17', '/toc/jco/18/16', '/toc/jco/18/15', '/toc/jco/18/14', '/toc/jco/18/13', '/toc/jco/18/12', '/toc/jco/18/11', '/toc/jco/18/10', '/toc/jco/18/9', '/toc/jco/18/8', '/toc/jco/18/7', '/toc/jco/18/6', '/toc/jco/18/5', '/toc/jco/18/4', '/toc/jco/18/3', '/toc/jco/18/2', '/toc/jco/18/1', '#', '#', '#', '/toc/jco/17/12', '/toc/jco/17/11', '/toc/jco/17/10', '/toc/jco/17/9', '/toc/jco/17/8', '/toc/jco/17/7', '/toc/jco/17/6', '/toc/jco/17/5', '/toc/jco/17/4', '/toc/jco/17/3', '/toc/jco/17/2', '/toc/jco/17/1', '#', '#', '/toc/jco/16/12', '/toc/jco/16/11', '/toc/jco/16/10', '/toc/jco/16/9', '/toc/jco/16/8', '/toc/jco/16/7', '/toc/jco/16/6', '/toc/jco/16/5', '/toc/jco/16/4', '/toc/jco/16/3', '/toc/jco/16/2', '/toc/jco/16/1', '#', '#', '/toc/jco/15/12', '/toc/jco/15/11', '/toc/jco/15/10', '/toc/jco/15/9', '/toc/jco/15/8', '/toc/jco/15/7', '/toc/jco/15/6', '/toc/jco/15/5', '/toc/jco/15/4', '/toc/jco/15/3', '/toc/jco/15/2', '/toc/jco/15/1', '#', '#', '/toc/jco/14/12', '/toc/jco/14/11', '/toc/jco/14/10', '/toc/jco/14/9', '/toc/jco/14/8', '/toc/jco/14/7', '/toc/jco/14/6', '/toc/jco/14/5', '/toc/jco/14/4', '/toc/jco/14/3', '/toc/jco/14/2', '/toc/jco/14/1', '#', '#', '/toc/jco/13/12', '/toc/jco/13/11', '/toc/jco/13/10', '/toc/jco/13/9', '/toc/jco/13/8', '/toc/jco/13/7', '/toc/jco/13/6', '/toc/jco/13/5', '/toc/jco/13/4', '/toc/jco/13/3', '/toc/jco/13/2', '/toc/jco/13/1', '#', '#', '/toc/jco/12/12', '/toc/jco/12/11', '/toc/jco/12/10', '/toc/jco/12/9', '/toc/jco/12/8', '/toc/jco/12/7', '/toc/jco/12/6', '/toc/jco/12/5', '/toc/jco/12/4', '/toc/jco/12/3', '/toc/jco/12/2', '/toc/jco/12/1', '#', '#', '/toc/jco/11/12', '/toc/jco/11/11', '/toc/jco/11/10', '/toc/jco/11/9', '/toc/jco/11/8', '/toc/jco/11/7', '/toc/jco/11/6', '/toc/jco/11/5', '/toc/jco/11/4', '/toc/jco/11/3', '/toc/jco/11/2', '/toc/jco/11/1', '#', '#', '/toc/jco/10/12', '/toc/jco/10/11', '/toc/jco/10/10', '/toc/jco/10/9', '/toc/jco/10/8', '/toc/jco/10/7', '/toc/jco/10/6', '/toc/jco/10/5', '/toc/jco/10/4', '/toc/jco/10/3', '/toc/jco/10/2', '/toc/jco/10/1', '#', '#', '/toc/jco/9/12', '/toc/jco/9/11', '/toc/jco/9/10', '/toc/jco/9/9', '/toc/jco/9/8', '/toc/jco/9/7', '/toc/jco/9/6', '/toc/jco/9/5', '/toc/jco/9/4', '/toc/jco/9/3', '/toc/jco/9/2', '/toc/jco/9/1', '#', '#', '/toc/jco/8/12', '/toc/jco/8/11', '/toc/jco/8/10', '/toc/jco/8/9', '/toc/jco/8/8', '/toc/jco/8/7', '/toc/jco/8/6', '/toc/jco/8/5', '/toc/jco/8/4', '/toc/jco/8/3', '/toc/jco/8/2', '/toc/jco/8/1', '#', '#', '#', '/toc/jco/7/12', '/toc/jco/7/11', '/toc/jco/7/10', '/toc/jco/7/9', '/toc/jco/7/8', '/toc/jco/7/7', '/toc/jco/7/6', '/toc/jco/7/5', '/toc/jco/7/4', '/toc/jco/7/3', '/toc/jco/7/2', '/toc/jco/7/1', '#', '#', '/toc/jco/6/12', '/toc/jco/6/11', '/toc/jco/6/10', '/toc/jco/6/9', '/toc/jco/6/8', '/toc/jco/6/7', '/toc/jco/6/6', '/toc/jco/6/5', '/toc/jco/6/4', '/toc/jco/6/3', '/toc/jco/6/2', '/toc/jco/6/1', '#', '#', '/toc/jco/5/12', '/toc/jco/5/11', '/toc/jco/5/10', '/toc/jco/5/9', '/toc/jco/5/8', '/toc/jco/5/7', '/toc/jco/5/6', '/toc/jco/5/5', '/toc/jco/5/4', '/toc/jco/5/3', '/toc/jco/5/2', '/toc/jco/5/1', '#', '#', '/toc/jco/4/12', '/toc/jco/4/11', '/toc/jco/4/10', '/toc/jco/4/9', '/toc/jco/4/8', '/toc/jco/4/7', '/toc/jco/4/6', '/toc/jco/4/5', '/toc/jco/4/4', '/toc/jco/4/3', '/toc/jco/4/2', '/toc/jco/4/1', '#', '#', '/toc/jco/3/12', '/toc/jco/3/11', '/toc/jco/3/10', '/toc/jco/3/9', '/toc/jco/3/8', '/toc/jco/3/7', '/toc/jco/3/6', '/toc/jco/3/5', '/toc/jco/3/4', '/toc/jco/3/3', '/toc/jco/3/2', '/toc/jco/3/1', '#', '#', '/toc/jco/2/12', '/toc/jco/2/11', '/toc/jco/2/10', '/toc/jco/2/9', '/toc/jco/2/8', '/toc/jco/2/7', '/toc/jco/2/6', '/toc/jco/2/5', '/toc/jco/2/4', '/toc/jco/2/3', '/toc/jco/2/2', '/toc/jco/2/1', '#', '#', '/toc/jco/1/12', '/toc/jco/1/11', '/toc/jco/1/10', '/toc/jco/1/9', '/toc/jco/1/8', '/toc/jco/1/7', '/toc/jco/1/6', '/toc/jco/1/5', '/toc/jco/1/4', '/toc/jco/1/3', '/toc/jco/1/2', '/toc/jco/1/1', '/cdn-cgi/l/email-protection#21425452554e4c445352445357484244614052424e0f4e5346', '/toc/jco/0/0', '/loi/jco', '/jco/meeting', '/jco/about', '/jco/about/editorial-roster', '/jco/about/contact', '/jco/about/permissions', '/jco/authors/author-center', '/reviewers', '/jco/subscribers/subscriber-center', '/about/institutions', '/jco/about/advertising', 'https://www.editorialmanager.com/jco-ascopubs/default.aspx', '/jco/subscribers/subscribe', '/journal/jco', '/journal/op', '/journal/go', '/journal/cci', '/journal/po', '/journal/edbk', 'http://dailynews.ascopubs.org', 'https://connection.asco.org/', 'https://ascopost.com/', 'https://elearning.asco.org/homepage', 'https://www.asco.org/meetings', 'https://cancer.net', 'https://www.asco.org/', 'https://asco.editage.com/', 'https://careercenter.asco.org', 'https://www.cancerlinq.org/', 'https://www.conquer.org/', 'https://www.tapur.org/', 'http://www.asco.org', 'https://www.facebook.com/ASCOCancer', 'https://twitter.com/ASCO', 'http://www.linkedin.com/groups?home=&gid=93067&trk=anet_ug_hm', 'https://www.youtube.com/user/ASCOcancer', 'https://www.asco.org/about-asco/legal/terms-use', 'https://www.asco.org/about-asco/legal/privacy-policy', None]\n"
     ]
    }
   ],
   "source": [
    "# Get the data from the website\n",
    "response = requests.get(\"https://ascopubs.org/loi/jco\") # get the data from the website\n",
    "soup = BeautifulSoup(response.text, \"html.parser\") # parse the data using beautiful soup\n",
    "\n",
    "list_of_links = [] # list of links\n",
    "all_links = soup.find_all(\"a\") # find all links\n",
    "for link in all_links:\n",
    "    list_of_links.append(link.get(\"href\")) # append the link to the list\n",
    "    \n",
    "print(list_of_links) "
   ]
  },
  {
   "cell_type": "code",
   "execution_count": 3,
   "metadata": {},
   "outputs": [
    {
     "data": {
      "text/html": [
       "<div>\n",
       "<style scoped>\n",
       "    .dataframe tbody tr th:only-of-type {\n",
       "        vertical-align: middle;\n",
       "    }\n",
       "\n",
       "    .dataframe tbody tr th {\n",
       "        vertical-align: top;\n",
       "    }\n",
       "\n",
       "    .dataframe thead th {\n",
       "        text-align: right;\n",
       "    }\n",
       "</style>\n",
       "<table border=\"1\" class=\"dataframe\">\n",
       "  <thead>\n",
       "    <tr style=\"text-align: right;\">\n",
       "      <th></th>\n",
       "      <th>Links</th>\n",
       "    </tr>\n",
       "  </thead>\n",
       "  <tbody>\n",
       "    <tr>\n",
       "      <th>0</th>\n",
       "      <td>#main</td>\n",
       "    </tr>\n",
       "    <tr>\n",
       "      <th>1</th>\n",
       "      <td>/journal/jco</td>\n",
       "    </tr>\n",
       "    <tr>\n",
       "      <th>2</th>\n",
       "      <td>https://signin.asco.org/oauth2/aus1goap5nQ33vo...</td>\n",
       "    </tr>\n",
       "    <tr>\n",
       "      <th>3</th>\n",
       "      <td>http://www.editorialmanager.com/jco-ascopubs/d...</td>\n",
       "    </tr>\n",
       "    <tr>\n",
       "      <th>4</th>\n",
       "      <td>https://apps.asco.org/EmailPreferences/Home/Up...</td>\n",
       "    </tr>\n",
       "    <tr>\n",
       "      <th>...</th>\n",
       "      <td>...</td>\n",
       "    </tr>\n",
       "    <tr>\n",
       "      <th>95</th>\n",
       "      <td>/toc/jco/40/7</td>\n",
       "    </tr>\n",
       "    <tr>\n",
       "      <th>96</th>\n",
       "      <td>/toc/jco/40/6</td>\n",
       "    </tr>\n",
       "    <tr>\n",
       "      <th>97</th>\n",
       "      <td>/toc/jco/40/5</td>\n",
       "    </tr>\n",
       "    <tr>\n",
       "      <th>98</th>\n",
       "      <td>/toc/jco/40/4</td>\n",
       "    </tr>\n",
       "    <tr>\n",
       "      <th>99</th>\n",
       "      <td>/toc/jco/40/3</td>\n",
       "    </tr>\n",
       "  </tbody>\n",
       "</table>\n",
       "<p>100 rows × 1 columns</p>\n",
       "</div>"
      ],
      "text/plain": [
       "                                                Links\n",
       "0                                               #main\n",
       "1                                        /journal/jco\n",
       "2   https://signin.asco.org/oauth2/aus1goap5nQ33vo...\n",
       "3   http://www.editorialmanager.com/jco-ascopubs/d...\n",
       "4   https://apps.asco.org/EmailPreferences/Home/Up...\n",
       "..                                                ...\n",
       "95                                      /toc/jco/40/7\n",
       "96                                      /toc/jco/40/6\n",
       "97                                      /toc/jco/40/5\n",
       "98                                      /toc/jco/40/4\n",
       "99                                      /toc/jco/40/3\n",
       "\n",
       "[100 rows x 1 columns]"
      ]
     },
     "execution_count": 3,
     "metadata": {},
     "output_type": "execute_result"
    }
   ],
   "source": [
    "# Store all the links in a dataframe\n",
    "df = pd.DataFrame(list_of_links, columns = [\"Links\"])\n",
    "df.head(100)\n"
   ]
  },
  {
   "cell_type": "code",
   "execution_count": 4,
   "metadata": {},
   "outputs": [
    {
     "data": {
      "text/plain": [
       "(967, 1)"
      ]
     },
     "execution_count": 4,
     "metadata": {},
     "output_type": "execute_result"
    }
   ],
   "source": [
    "# remove columns with null values\n",
    "df = df.dropna()\n",
    "df.head(100)\n",
    "\n",
    "# remove the links that are not related to the journal articles\n",
    "df = df[df[\"Links\"].str.contains(\"/toc/jco\")]\n",
    "df.shape\n"
   ]
  },
  {
   "cell_type": "code",
   "execution_count": 7,
   "metadata": {},
   "outputs": [
    {
     "name": "stderr",
     "output_type": "stream",
     "text": [
      "[WDM] - Downloading: 100%|████████████████████████████████████████████████████████| 6.68M/6.68M [00:00<00:00, 10.1MB/s]\n",
      "C:\\Users\\ritik\\AppData\\Local\\Temp\\ipykernel_12404\\1981362990.py:10: DeprecationWarning: executable_path has been deprecated, please pass in a Service object\n",
      "  driver = webdriver.Chrome(ChromeDriverManager().install())\n"
     ]
    }
   ],
   "source": [
    "# use selenium to get the data from the links\n",
    "# set the path to the firefox driver in linux \n",
    "from selenium import webdriver\n",
    "from selenium.webdriver.firefox.options import Options\n",
    "options = Options()\n",
    "options.headless = True\n",
    "\n",
    "# use chrome driver\n",
    "from webdriver_manager.chrome import ChromeDriverManager\n",
    "driver = webdriver.Chrome(ChromeDriverManager().install())\n",
    "\n"
   ]
  },
  {
   "cell_type": "code",
   "execution_count": 104,
   "metadata": {},
   "outputs": [
    {
     "ename": "IndentationError",
     "evalue": "expected an indented block after 'for' statement on line 12 (1392580689.py, line 13)",
     "output_type": "error",
     "traceback": [
      "\u001b[1;36m  Input \u001b[1;32mIn [104]\u001b[1;36m\u001b[0m\n\u001b[1;33m    page_count[\"outer\"] += 1\u001b[0m\n\u001b[1;37m    ^\u001b[0m\n\u001b[1;31mIndentationError\u001b[0m\u001b[1;31m:\u001b[0m expected an indented block after 'for' statement on line 12\n"
     ]
    }
   ],
   "source": [
    "page_count = {\"outer\":0}\n",
    "\n",
    "response = requests.get('https://ascopubs.org/loi/jco') # get the data from the website\n",
    "soup = BeautifulSoup(response.text, \"html.parser\") # parse the data using beautiful soup\n",
    "outer_list = soup.find_all('article', {\"class\":\"issues-list\"})\n",
    "year_blocks = []\n",
    "\n",
    "for year_block_10  in outer_list[0].find_all('div', {\"class\":\"issueGroup\"}, recursive=False):\n",
    "    year_blocks.append(year_block_10)\n",
    "    key = year_blocks_10.find_all('a', {\"class\": \"title expander open\"}).text\n",
    "    \n",
    "    for year_block in year_block_10.div.find_all('div', {\"class\":\"issueGroup\"}, recursive=False):\n",
    "        pass\n",
    "    page_count[\"outer\"] += 1\n",
    "    "
   ]
  },
  {
   "cell_type": "code",
   "execution_count": 105,
   "metadata": {
    "scrolled": false
   },
   "outputs": [],
   "source": [
    "response = requests.get(\"https://ascopubs.org/toc/jco/1/13\") # get the data from the website"
   ]
  },
  {
   "cell_type": "code",
   "execution_count": 106,
   "metadata": {},
   "outputs": [
    {
     "data": {
      "text/plain": [
       "404"
      ]
     },
     "execution_count": 106,
     "metadata": {},
     "output_type": "execute_result"
    }
   ],
   "source": [
    "response.status_code"
   ]
  },
  {
   "cell_type": "markdown",
   "metadata": {},
   "source": [
    "## This is the solution"
   ]
  },
  {
   "cell_type": "code",
   "execution_count": null,
   "metadata": {},
   "outputs": [
    {
     "name": "stderr",
     "output_type": "stream",
     "text": [
      "\r",
      "  0%|                                                                                           | 0/40 [00:00<?, ?it/s]"
     ]
    },
    {
     "name": "stdout",
     "output_type": "stream",
     "text": [
      "1 https://ascopubs.org/toc/jco/1/1 2 https://ascopubs.org/toc/jco/1/2 3 https://ascopubs.org/toc/jco/1/3 4 https://ascopubs.org/toc/jco/1/4 5 https://ascopubs.org/toc/jco/1/5 6 https://ascopubs.org/toc/jco/1/6 7 https://ascopubs.org/toc/jco/1/7 8 https://ascopubs.org/toc/jco/1/8 9 https://ascopubs.org/toc/jco/1/9 10 https://ascopubs.org/toc/jco/1/10 11 https://ascopubs.org/toc/jco/1/11 12 https://ascopubs.org/toc/jco/1/12 "
     ]
    },
    {
     "name": "stderr",
     "output_type": "stream",
     "text": [
      "\r",
      "  2%|██                                                                                 | 1/40 [00:32<21:23, 32.92s/it]"
     ]
    },
    {
     "name": "stdout",
     "output_type": "stream",
     "text": [
      "1 https://ascopubs.org/toc/jco/2/1 2 https://ascopubs.org/toc/jco/2/2 3 https://ascopubs.org/toc/jco/2/3 4 https://ascopubs.org/toc/jco/2/4 5 https://ascopubs.org/toc/jco/2/5 6 https://ascopubs.org/toc/jco/2/6 7 https://ascopubs.org/toc/jco/2/7 8 https://ascopubs.org/toc/jco/2/8 9 https://ascopubs.org/toc/jco/2/9 10 https://ascopubs.org/toc/jco/2/10 11 https://ascopubs.org/toc/jco/2/11 12 https://ascopubs.org/toc/jco/2/12 "
     ]
    },
    {
     "name": "stderr",
     "output_type": "stream",
     "text": [
      "\r",
      "  5%|████▏                                                                              | 2/40 [01:06<21:12, 33.50s/it]"
     ]
    },
    {
     "name": "stdout",
     "output_type": "stream",
     "text": [
      "1 https://ascopubs.org/toc/jco/3/1 2 https://ascopubs.org/toc/jco/3/2 3 https://ascopubs.org/toc/jco/3/3 4 https://ascopubs.org/toc/jco/3/4 5 https://ascopubs.org/toc/jco/3/5 6 https://ascopubs.org/toc/jco/3/6 7 https://ascopubs.org/toc/jco/3/7 8 https://ascopubs.org/toc/jco/3/8 9 https://ascopubs.org/toc/jco/3/9 10 https://ascopubs.org/toc/jco/3/10 11 https://ascopubs.org/toc/jco/3/11 12 https://ascopubs.org/toc/jco/3/12 "
     ]
    },
    {
     "name": "stderr",
     "output_type": "stream",
     "text": [
      "\r",
      "  8%|██████▏                                                                            | 3/40 [01:44<21:57, 35.61s/it]"
     ]
    },
    {
     "name": "stdout",
     "output_type": "stream",
     "text": [
      "1 https://ascopubs.org/toc/jco/4/1 2 https://ascopubs.org/toc/jco/4/2 3 https://ascopubs.org/toc/jco/4/3 4 https://ascopubs.org/toc/jco/4/4 5 https://ascopubs.org/toc/jco/4/5 6 https://ascopubs.org/toc/jco/4/6 7 https://ascopubs.org/toc/jco/4/7 8 https://ascopubs.org/toc/jco/4/8 9 https://ascopubs.org/toc/jco/4/9 10 https://ascopubs.org/toc/jco/4/10 11 https://ascopubs.org/toc/jco/4/11 12 https://ascopubs.org/toc/jco/4/12 "
     ]
    },
    {
     "name": "stderr",
     "output_type": "stream",
     "text": [
      "\r",
      " 10%|████████▎                                                                          | 4/40 [02:27<22:59, 38.31s/it]"
     ]
    },
    {
     "name": "stdout",
     "output_type": "stream",
     "text": [
      "1 https://ascopubs.org/toc/jco/5/1 2 https://ascopubs.org/toc/jco/5/2 3 https://ascopubs.org/toc/jco/5/3 4 https://ascopubs.org/toc/jco/5/4 5 https://ascopubs.org/toc/jco/5/5 6 https://ascopubs.org/toc/jco/5/6 7 https://ascopubs.org/toc/jco/5/7 8 https://ascopubs.org/toc/jco/5/8 9 https://ascopubs.org/toc/jco/5/9 10 https://ascopubs.org/toc/jco/5/10 11 https://ascopubs.org/toc/jco/5/11 12 https://ascopubs.org/toc/jco/5/12 "
     ]
    },
    {
     "name": "stderr",
     "output_type": "stream",
     "text": [
      "\r",
      " 12%|██████████▍                                                                        | 5/40 [03:11<23:32, 40.36s/it]"
     ]
    },
    {
     "name": "stdout",
     "output_type": "stream",
     "text": [
      "1 https://ascopubs.org/toc/jco/6/1 2 https://ascopubs.org/toc/jco/6/2 3 https://ascopubs.org/toc/jco/6/3 4 https://ascopubs.org/toc/jco/6/4 5 https://ascopubs.org/toc/jco/6/5 6 https://ascopubs.org/toc/jco/6/6 7 https://ascopubs.org/toc/jco/6/7 8 https://ascopubs.org/toc/jco/6/8 9 https://ascopubs.org/toc/jco/6/9 10 https://ascopubs.org/toc/jco/6/10 11 https://ascopubs.org/toc/jco/6/11 12 https://ascopubs.org/toc/jco/6/12 "
     ]
    },
    {
     "name": "stderr",
     "output_type": "stream",
     "text": [
      "\r",
      " 15%|████████████▍                                                                      | 6/40 [03:54<23:19, 41.15s/it]"
     ]
    },
    {
     "name": "stdout",
     "output_type": "stream",
     "text": [
      "1 https://ascopubs.org/toc/jco/7/1 2 https://ascopubs.org/toc/jco/7/2 3 https://ascopubs.org/toc/jco/7/3 4 https://ascopubs.org/toc/jco/7/4 5 https://ascopubs.org/toc/jco/7/5 6 https://ascopubs.org/toc/jco/7/6 7 https://ascopubs.org/toc/jco/7/7 8 https://ascopubs.org/toc/jco/7/8 9 https://ascopubs.org/toc/jco/7/9 10 https://ascopubs.org/toc/jco/7/10 11 https://ascopubs.org/toc/jco/7/11 12 https://ascopubs.org/toc/jco/7/12 "
     ]
    },
    {
     "name": "stderr",
     "output_type": "stream",
     "text": [
      "\r",
      " 18%|██████████████▌                                                                    | 7/40 [04:39<23:22, 42.51s/it]"
     ]
    },
    {
     "name": "stdout",
     "output_type": "stream",
     "text": [
      "1 https://ascopubs.org/toc/jco/8/1 2 https://ascopubs.org/toc/jco/8/2 3 https://ascopubs.org/toc/jco/8/3 4 https://ascopubs.org/toc/jco/8/4 5 https://ascopubs.org/toc/jco/8/5 6 https://ascopubs.org/toc/jco/8/6 7 https://ascopubs.org/toc/jco/8/7 8 https://ascopubs.org/toc/jco/8/8 9 https://ascopubs.org/toc/jco/8/9 10 https://ascopubs.org/toc/jco/8/10 11 https://ascopubs.org/toc/jco/8/11 12 https://ascopubs.org/toc/jco/8/12 "
     ]
    },
    {
     "name": "stderr",
     "output_type": "stream",
     "text": [
      "\r",
      " 20%|████████████████▌                                                                  | 8/40 [05:25<23:13, 43.54s/it]"
     ]
    },
    {
     "name": "stdout",
     "output_type": "stream",
     "text": [
      "1 https://ascopubs.org/toc/jco/9/1 2 https://ascopubs.org/toc/jco/9/2 3 https://ascopubs.org/toc/jco/9/3 4 https://ascopubs.org/toc/jco/9/4 5 https://ascopubs.org/toc/jco/9/5 6 https://ascopubs.org/toc/jco/9/6 7 https://ascopubs.org/toc/jco/9/7 8 https://ascopubs.org/toc/jco/9/8 9 https://ascopubs.org/toc/jco/9/9 10 https://ascopubs.org/toc/jco/9/10 11 https://ascopubs.org/toc/jco/9/11 12 https://ascopubs.org/toc/jco/9/12 "
     ]
    },
    {
     "name": "stderr",
     "output_type": "stream",
     "text": [
      "\r",
      " 22%|██████████████████▋                                                                | 9/40 [06:13<23:19, 45.14s/it]"
     ]
    },
    {
     "name": "stdout",
     "output_type": "stream",
     "text": [
      "1 https://ascopubs.org/toc/jco/10/1 2 https://ascopubs.org/toc/jco/10/2 3 https://ascopubs.org/toc/jco/10/3 4 https://ascopubs.org/toc/jco/10/4 5 https://ascopubs.org/toc/jco/10/5 6 https://ascopubs.org/toc/jco/10/6 7 https://ascopubs.org/toc/jco/10/7 8 https://ascopubs.org/toc/jco/10/8 9 https://ascopubs.org/toc/jco/10/9 10 https://ascopubs.org/toc/jco/10/10 11 https://ascopubs.org/toc/jco/10/11 12 https://ascopubs.org/toc/jco/10/12 "
     ]
    },
    {
     "name": "stderr",
     "output_type": "stream",
     "text": [
      "\r",
      " 25%|████████████████████▌                                                             | 10/40 [07:01<22:53, 45.79s/it]"
     ]
    },
    {
     "name": "stdout",
     "output_type": "stream",
     "text": [
      "1 https://ascopubs.org/toc/jco/11/1 2 https://ascopubs.org/toc/jco/11/2 3 https://ascopubs.org/toc/jco/11/3 4 https://ascopubs.org/toc/jco/11/4 5 https://ascopubs.org/toc/jco/11/5 6 https://ascopubs.org/toc/jco/11/6 7 https://ascopubs.org/toc/jco/11/7 8 https://ascopubs.org/toc/jco/11/8 9 https://ascopubs.org/toc/jco/11/9 "
     ]
    }
   ],
   "source": [
    "from tqdm import tqdm\n",
    "\n",
    "url = \"https://ascopubs.org/toc/jco/\"\n",
    "\n",
    "data = []\n",
    "\n",
    "for i in tqdm(range(1, 41)):\n",
    "    out_url = url + str(i)\n",
    "    index = 1\n",
    "    \n",
    "    year_data = []\n",
    "    \n",
    "    while True:\n",
    "        titles = []\n",
    "        authors = []\n",
    "        articles = []\n",
    "        \n",
    "        target_url = out_url + \"/\" + str(index)\n",
    "        \n",
    "        response = requests.get(target_url) # get the data from the website\n",
    "        if response.status_code == 404:\n",
    "            break\n",
    "        soup = BeautifulSoup(response.text, \"html.parser\")\n",
    "        print(index, target_url, end=\" \")\n",
    "        \n",
    "        tables = soup.find_all(\"table\", {\"class\": \"articleEntry\"})\n",
    "        for table in tables:\n",
    "            # getting title\n",
    "            title = table.find_all(\"span\", {\"class\":\"hlFld-Title\"})\n",
    "            if(len(title) > 0):\n",
    "                titles.append(title[0].text)\n",
    "            else:\n",
    "                titles.append(\"\")\n",
    "                \n",
    "            # getting author\n",
    "            author = table.find_all(\"span\", {\"class\":\"entryAuthor\"})\n",
    "            if (len(author) > 0):\n",
    "                authors.append(author[0].text)\n",
    "            else:\n",
    "                authors.append(\"\")\n",
    "\n",
    "            # getting pdf url\n",
    "            pdf_url = table.find_all(\"a\", {\"class\":\"pdf\"})[0].get('href')\n",
    "            if not pdf_url.startswith('https://ascopubs.org/'):\n",
    "                pdf_url = 'https://ascopubs.org' + pdf_url\n",
    "            articles.append(pdf_url)\n",
    "        year_data.append([titles, authors, articles])\n",
    "        index += 1\n",
    "        \n",
    "    data.append(year_data)"
   ]
  },
  {
   "cell_type": "code",
   "execution_count": 114,
   "metadata": {
    "scrolled": true
   },
   "outputs": [
    {
     "data": {
      "text/plain": [
       "9"
      ]
     },
     "execution_count": 114,
     "metadata": {},
     "output_type": "execute_result"
    }
   ],
   "source": [
    "len(data[0])"
   ]
  },
  {
   "cell_type": "code",
   "execution_count": 117,
   "metadata": {},
   "outputs": [
    {
     "data": {
      "text/plain": [
       "9"
      ]
     },
     "execution_count": 117,
     "metadata": {},
     "output_type": "execute_result"
    }
   ],
   "source": [
    "len(data[0])"
   ]
  },
  {
   "cell_type": "code",
   "execution_count": 79,
   "metadata": {},
   "outputs": [
    {
     "name": "stdout",
     "output_type": "stream",
     "text": [
      "27\n",
      "27\n",
      "27\n"
     ]
    }
   ],
   "source": [
    "print(len(titles_2022))\n",
    "print(len(authors_2022))\n",
    "print(len(article_url_2022))"
   ]
  },
  {
   "cell_type": "code",
   "execution_count": 83,
   "metadata": {},
   "outputs": [
    {
     "name": "stdout",
     "output_type": "stream",
     "text": [
      "[16, 14, 15, 12, 13, 16, 15, 17, 14, 16, 18, 17, 17, 15, 19, 18, 18, 16, 16, 18, 16, 18, 16, 15, 17, 18, 16]\n",
      "[16, 14, 15, 12, 13, 16, 15, 17, 14, 16, 18, 17, 17, 15, 19, 18, 18, 16, 16, 18, 16, 18, 16, 15, 17, 18, 16]\n",
      "[16, 14, 15, 12, 13, 16, 15, 17, 14, 16, 18, 17, 17, 15, 19, 18, 18, 16, 16, 18, 16, 18, 16, 15, 17, 18, 16]\n"
     ]
    }
   ],
   "source": [
    "print([len(x) for x in titles_2022])\n",
    "print([len(x) for x in authors_2022])\n",
    "print([len(x) for x in article_url_2022])"
   ]
  },
  {
   "cell_type": "code",
   "execution_count": null,
   "metadata": {},
   "outputs": [],
   "source": []
  },
  {
   "cell_type": "code",
   "execution_count": 8,
   "metadata": {},
   "outputs": [],
   "source": [
    "# Navigate to the website\n",
    "driver.get(\"https://ascopubs.org/loi/jco\")"
   ]
  },
  {
   "cell_type": "code",
   "execution_count": null,
   "metadata": {},
   "outputs": [],
   "source": [
    "# Get the page source\n",
    "source = driver.page_source\n",
    "print(source)"
   ]
  },
  {
   "cell_type": "code",
   "execution_count": 24,
   "metadata": {},
   "outputs": [
    {
     "name": "stdout",
     "output_type": "stream",
     "text": [
      "Essential Website Cookies\n",
      "Performance and Functionality Cookies\n",
      "Personalization and Analytics Cookies\n",
      "Advertising Cookies and Social Media Cookies\n",
      "\n"
     ]
    },
    {
     "ename": "InvalidArgumentException",
     "evalue": "Message: invalid argument\n  (Session info: chrome=105.0.5195.125)\nStacktrace:\n#0 0x5628470d6693 <unknown>\n#1 0x562846ecf9db <unknown>\n#2 0x562846ebc95c <unknown>\n#3 0x562846ebb22d <unknown>\n#4 0x562846ebb3b2 <unknown>\n#5 0x562846ed16ee <unknown>\n#6 0x562846f39caf <unknown>\n#7 0x562846f25922 <unknown>\n#8 0x562846f394b0 <unknown>\n#9 0x562846f25743 <unknown>\n#10 0x562846efb533 <unknown>\n#11 0x562846efc715 <unknown>\n#12 0x5628471267bd <unknown>\n#13 0x562847129bf9 <unknown>\n#14 0x56284710bf2e <unknown>\n#15 0x56284712a9b3 <unknown>\n#16 0x5628470ffe4f <unknown>\n#17 0x562847149ea8 <unknown>\n#18 0x56284714a052 <unknown>\n#19 0x56284716471f <unknown>\n#20 0x7faffd6c3b43 <unknown>\n",
     "output_type": "error",
     "traceback": [
      "\u001b[0;31m---------------------------------------------------------------------------\u001b[0m",
      "\u001b[0;31mInvalidArgumentException\u001b[0m                  Traceback (most recent call last)",
      "\u001b[1;32m/home/francis/Desktop/DSE SEM1/DSIP/Project/scrapping/Untitled-1.ipynb Cell 10\u001b[0m in \u001b[0;36m<cell line: 13>\u001b[0;34m()\u001b[0m\n\u001b[1;32m     <a href='vscode-notebook-cell:/home/francis/Desktop/DSE%20SEM1/DSIP/Project/scrapping/Untitled-1.ipynb#X14sZmlsZQ%3D%3D?line=11'>12</a>\u001b[0m \u001b[39m# Navigate to the website and select specefic link to get the data from the website\u001b[39;00m\n\u001b[1;32m     <a href='vscode-notebook-cell:/home/francis/Desktop/DSE%20SEM1/DSIP/Project/scrapping/Untitled-1.ipynb#X14sZmlsZQ%3D%3D?line=12'>13</a>\u001b[0m \u001b[39mfor\u001b[39;00m link \u001b[39min\u001b[39;00m df[\u001b[39m\"\u001b[39m\u001b[39mLinks\u001b[39m\u001b[39m\"\u001b[39m]:\n\u001b[0;32m---> <a href='vscode-notebook-cell:/home/francis/Desktop/DSE%20SEM1/DSIP/Project/scrapping/Untitled-1.ipynb#X14sZmlsZQ%3D%3D?line=13'>14</a>\u001b[0m     driver\u001b[39m.\u001b[39;49mget(link)\n\u001b[1;32m     <a href='vscode-notebook-cell:/home/francis/Desktop/DSE%20SEM1/DSIP/Project/scrapping/Untitled-1.ipynb#X14sZmlsZQ%3D%3D?line=14'>15</a>\u001b[0m     time\u001b[39m.\u001b[39msleep(\u001b[39m5\u001b[39m)\n\u001b[1;32m     <a href='vscode-notebook-cell:/home/francis/Desktop/DSE%20SEM1/DSIP/Project/scrapping/Untitled-1.ipynb#X14sZmlsZQ%3D%3D?line=15'>16</a>\u001b[0m     source \u001b[39m=\u001b[39m driver\u001b[39m.\u001b[39mpage_source\n",
      "File \u001b[0;32m~/.local/lib/python3.10/site-packages/selenium/webdriver/remote/webdriver.py:440\u001b[0m, in \u001b[0;36mWebDriver.get\u001b[0;34m(self, url)\u001b[0m\n\u001b[1;32m    436\u001b[0m \u001b[39mdef\u001b[39;00m \u001b[39mget\u001b[39m(\u001b[39mself\u001b[39m, url: \u001b[39mstr\u001b[39m) \u001b[39m-\u001b[39m\u001b[39m>\u001b[39m \u001b[39mNone\u001b[39;00m:\n\u001b[1;32m    437\u001b[0m     \u001b[39m\"\"\"\u001b[39;00m\n\u001b[1;32m    438\u001b[0m \u001b[39m    Loads a web page in the current browser session.\u001b[39;00m\n\u001b[1;32m    439\u001b[0m \u001b[39m    \"\"\"\u001b[39;00m\n\u001b[0;32m--> 440\u001b[0m     \u001b[39mself\u001b[39;49m\u001b[39m.\u001b[39;49mexecute(Command\u001b[39m.\u001b[39;49mGET, {\u001b[39m'\u001b[39;49m\u001b[39murl\u001b[39;49m\u001b[39m'\u001b[39;49m: url})\n",
      "File \u001b[0;32m~/.local/lib/python3.10/site-packages/selenium/webdriver/remote/webdriver.py:428\u001b[0m, in \u001b[0;36mWebDriver.execute\u001b[0;34m(self, driver_command, params)\u001b[0m\n\u001b[1;32m    426\u001b[0m response \u001b[39m=\u001b[39m \u001b[39mself\u001b[39m\u001b[39m.\u001b[39mcommand_executor\u001b[39m.\u001b[39mexecute(driver_command, params)\n\u001b[1;32m    427\u001b[0m \u001b[39mif\u001b[39;00m response:\n\u001b[0;32m--> 428\u001b[0m     \u001b[39mself\u001b[39;49m\u001b[39m.\u001b[39;49merror_handler\u001b[39m.\u001b[39;49mcheck_response(response)\n\u001b[1;32m    429\u001b[0m     response[\u001b[39m'\u001b[39m\u001b[39mvalue\u001b[39m\u001b[39m'\u001b[39m] \u001b[39m=\u001b[39m \u001b[39mself\u001b[39m\u001b[39m.\u001b[39m_unwrap_value(\n\u001b[1;32m    430\u001b[0m         response\u001b[39m.\u001b[39mget(\u001b[39m'\u001b[39m\u001b[39mvalue\u001b[39m\u001b[39m'\u001b[39m, \u001b[39mNone\u001b[39;00m))\n\u001b[1;32m    431\u001b[0m     \u001b[39mreturn\u001b[39;00m response\n",
      "File \u001b[0;32m~/.local/lib/python3.10/site-packages/selenium/webdriver/remote/errorhandler.py:243\u001b[0m, in \u001b[0;36mErrorHandler.check_response\u001b[0;34m(self, response)\u001b[0m\n\u001b[1;32m    241\u001b[0m         alert_text \u001b[39m=\u001b[39m value[\u001b[39m'\u001b[39m\u001b[39malert\u001b[39m\u001b[39m'\u001b[39m]\u001b[39m.\u001b[39mget(\u001b[39m'\u001b[39m\u001b[39mtext\u001b[39m\u001b[39m'\u001b[39m)\n\u001b[1;32m    242\u001b[0m     \u001b[39mraise\u001b[39;00m exception_class(message, screen, stacktrace, alert_text)  \u001b[39m# type: ignore[call-arg]  # mypy is not smart enough here\u001b[39;00m\n\u001b[0;32m--> 243\u001b[0m \u001b[39mraise\u001b[39;00m exception_class(message, screen, stacktrace)\n",
      "\u001b[0;31mInvalidArgumentException\u001b[0m: Message: invalid argument\n  (Session info: chrome=105.0.5195.125)\nStacktrace:\n#0 0x5628470d6693 <unknown>\n#1 0x562846ecf9db <unknown>\n#2 0x562846ebc95c <unknown>\n#3 0x562846ebb22d <unknown>\n#4 0x562846ebb3b2 <unknown>\n#5 0x562846ed16ee <unknown>\n#6 0x562846f39caf <unknown>\n#7 0x562846f25922 <unknown>\n#8 0x562846f394b0 <unknown>\n#9 0x562846f25743 <unknown>\n#10 0x562846efb533 <unknown>\n#11 0x562846efc715 <unknown>\n#12 0x5628471267bd <unknown>\n#13 0x562847129bf9 <unknown>\n#14 0x56284710bf2e <unknown>\n#15 0x56284712a9b3 <unknown>\n#16 0x5628470ffe4f <unknown>\n#17 0x562847149ea8 <unknown>\n#18 0x56284714a052 <unknown>\n#19 0x56284716471f <unknown>\n#20 0x7faffd6c3b43 <unknown>\n"
     ]
    }
   ],
   "source": [
    "# Parse the source\n",
    "soup = BeautifulSoup(source, features=\"html.parser\")\n",
    "\n",
    "\n",
    "# Find all h4 tags\n",
    "headings = soup.find_all('h4')\n",
    "\n",
    "# Loop through the headings\n",
    "for heading in headings:\n",
    "    print(heading.text.strip()) # Print the heading\n",
    "\n",
    "# Navigate to the website and select specefic link to get the data from the website\n",
    "for link in df[\"Links\"]:\n",
    "    driver.get(link) \n",
    "    time.sleep(5)\n",
    "    source = driver.page_source\n",
    "    soup = BeautifulSoup(source, features=\"html.parser\")\n",
    "    headings = soup.find_all('h4')\n",
    "    for heading in headings:\n",
    "        print(heading.text.strip()) # Print the heading\n",
    "\n"
   ]
  },
  {
   "cell_type": "code",
   "execution_count": null,
   "metadata": {},
   "outputs": [],
   "source": []
  }
 ],
 "metadata": {
  "kernelspec": {
   "display_name": "Python 3 (ipykernel)",
   "language": "python",
   "name": "python3"
  },
  "language_info": {
   "codemirror_mode": {
    "name": "ipython",
    "version": 3
   },
   "file_extension": ".py",
   "mimetype": "text/x-python",
   "name": "python",
   "nbconvert_exporter": "python",
   "pygments_lexer": "ipython3",
   "version": "3.10.5"
  },
  "vscode": {
   "interpreter": {
    "hash": "916dbcbb3f70747c44a77c7bcd40155683ae19c65e1c03b4aa3499c5328201f1"
   }
  }
 },
 "nbformat": 4,
 "nbformat_minor": 2
}
